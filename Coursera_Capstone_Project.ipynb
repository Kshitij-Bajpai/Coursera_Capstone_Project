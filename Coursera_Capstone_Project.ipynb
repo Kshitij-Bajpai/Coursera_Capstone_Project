{
    "cells": [
        {
            "cell_type": "code",
            "execution_count": 1,
            "metadata": {},
            "outputs": [
                {
                    "name": "stdout",
                    "output_type": "stream",
                    "text": "Requirement already satisfied: folium in /opt/conda/envs/Python36/lib/python3.6/site-packages (0.11.0)\nRequirement already satisfied: branca>=0.3.0 in /opt/conda/envs/Python36/lib/python3.6/site-packages (from folium) (0.4.1)\nRequirement already satisfied: jinja2>=2.9 in /opt/conda/envs/Python36/lib/python3.6/site-packages (from folium) (2.10)\nRequirement already satisfied: numpy in /opt/conda/envs/Python36/lib/python3.6/site-packages (from folium) (1.15.4)\nRequirement already satisfied: requests in /opt/conda/envs/Python36/lib/python3.6/site-packages (from folium) (2.21.0)\nRequirement already satisfied: MarkupSafe>=0.23 in /opt/conda/envs/Python36/lib/python3.6/site-packages (from jinja2>=2.9->folium) (1.1.0)\nRequirement already satisfied: urllib3<1.25,>=1.21.1 in /opt/conda/envs/Python36/lib/python3.6/site-packages (from requests->folium) (1.24.1)\nRequirement already satisfied: chardet<3.1.0,>=3.0.2 in /opt/conda/envs/Python36/lib/python3.6/site-packages (from requests->folium) (3.0.4)\nRequirement already satisfied: certifi>=2017.4.17 in /opt/conda/envs/Python36/lib/python3.6/site-packages (from requests->folium) (2020.6.20)\nRequirement already satisfied: idna<2.9,>=2.5 in /opt/conda/envs/Python36/lib/python3.6/site-packages (from requests->folium) (2.8)\n"
                }
            ],
            "source": "#!conda install -c conda-forge googlemaps\n#!pip install googlemaps\n#!conda install -c conda-forge folium=0.5.0 --yes\n!pip install folium"
        },
        {
            "cell_type": "code",
            "execution_count": 2,
            "metadata": {},
            "outputs": [],
            "source": "import pandas as pd\nimport numpy as np\n\nfrom bs4 import BeautifulSoup\nimport requests\n\nimport folium # Map plotting library\n\nfrom pandas.io.json import json_normalize # Tranform JSON file into a pandas dataframe\nimport json\n\n# Matplotlib and associated plotting modules\nimport matplotlib.pyplot as plt\nimport matplotlib.cm as cm\nimport matplotlib.colors as colors\n%matplotlib inline\n\n# Import k-means from clustering stage\nfrom sklearn.cluster import KMeans\nfrom sklearn.metrics import silhouette_samples, silhouette_score\n\nimport re"
        },
        {
            "cell_type": "markdown",
            "metadata": {},
            "source": "### Get all location in Delhi"
        },
        {
            "cell_type": "code",
            "execution_count": 3,
            "metadata": {},
            "outputs": [],
            "source": "source = requests.get('https://en.wikipedia.org/wiki/Neighbourhoods_of_Delhi').text \nsoup = BeautifulSoup(source, 'lxml')"
        },
        {
            "cell_type": "code",
            "execution_count": 4,
            "metadata": {},
            "outputs": [],
            "source": "neighborhood=[]\nfor i in soup.find_all(\"h2\"):\n    for k in i.next:\n        flag=0\n        if \"\".join(list(k)) in ['See also','References','External links']:\n            flag=1\n            break\n    if flag==1:\n        continue\n    for j in i.next_siblings:\n        if j.name=='ul':\n            text=j.text\n            delimiters = \",\", \".\", \"[\",\";\"\n            regexPattern = '|'.join(map(re.escape, delimiters))\n            for m in text.split('\\n'):\n                neighborhood.append(re.split(regexPattern,m)[0])\n            break"
        },
        {
            "cell_type": "code",
            "execution_count": 5,
            "metadata": {},
            "outputs": [],
            "source": "df = pd.DataFrame()\ndf['Location']=neighborhood"
        },
        {
            "cell_type": "code",
            "execution_count": 6,
            "metadata": {},
            "outputs": [
                {
                    "data": {
                        "text/html": "<div>\n<style scoped>\n    .dataframe tbody tr th:only-of-type {\n        vertical-align: middle;\n    }\n\n    .dataframe tbody tr th {\n        vertical-align: top;\n    }\n\n    .dataframe thead th {\n        text-align: right;\n    }\n</style>\n<table border=\"1\" class=\"dataframe\">\n  <thead>\n    <tr style=\"text-align: right;\">\n      <th></th>\n      <th>Location</th>\n    </tr>\n  </thead>\n  <tbody>\n    <tr>\n      <th>0</th>\n      <td>Adarsh Nagar</td>\n    </tr>\n    <tr>\n      <th>1</th>\n      <td>Ashok Vihar</td>\n    </tr>\n    <tr>\n      <th>2</th>\n      <td>Begum Pur</td>\n    </tr>\n    <tr>\n      <th>3</th>\n      <td>Karala</td>\n    </tr>\n    <tr>\n      <th>4</th>\n      <td>Model Town</td>\n    </tr>\n  </tbody>\n</table>\n</div>",
                        "text/plain": "       Location\n0  Adarsh Nagar\n1   Ashok Vihar\n2     Begum Pur\n3        Karala\n4    Model Town"
                    },
                    "execution_count": 6,
                    "metadata": {},
                    "output_type": "execute_result"
                }
            ],
            "source": "df.head()"
        },
        {
            "cell_type": "markdown",
            "metadata": {},
            "source": "### Get the coordinates of each loaction"
        },
        {
            "cell_type": "code",
            "execution_count": 7,
            "metadata": {},
            "outputs": [],
            "source": "# define the rows to get the data\ndf['Latitude']=None\ndf['Longitude']=None"
        },
        {
            "cell_type": "code",
            "execution_count": 8,
            "metadata": {},
            "outputs": [],
            "source": "def coordinate_extract(soup):\n    coor=[]\n    search = soup.find_all(class_='BNeawe s3v9rd AP7Wnd')\n    for i in search:\n        try:\n            c=float(i.text)\n            coor.append(c)\n        except:\n            continue\n    if len(coor)<2:\n        try:\n            for i in map(lambda x: re.findall(r'[0-9]{2}\\.[0-9]{6}',x.text),search):\n                coor.extend(list(map(lambda x: float(x), i)))\n            if len(coor)<2: \n                raise exception('')\n        except:\n            for i in map(lambda x: re.findall(r'[0-9]{2}\\.[0-9]{2,6}',x.text),search):\n                coor.extend(list(map(lambda x: float(x), i)))\n        finally:\n            coor=coor[:2]\n            \n    return coor[0],coor[1]"
        },
        {
            "cell_type": "code",
            "execution_count": null,
            "metadata": {},
            "outputs": [],
            "source": "for i in df['Location']:\n    \n    name='+'.join(i.split())\n    \n    url=\"https://www.google.com/search?q=delhi {} coordinates\".format(name) # Google search at each iterations\n    source_code = requests.get(url).text\n    soup = BeautifulSoup(source_code, 'lxml')\n    \n    df.loc[df['Location']==i,['Latitude','Longitude']] = coordinate_extract(soup) # Updating the table"
        },
        {
            "cell_type": "code",
            "execution_count": null,
            "metadata": {},
            "outputs": [],
            "source": "df.head(3)"
        },
        {
            "cell_type": "markdown",
            "metadata": {},
            "source": "### Map the locations using folium"
        },
        {
            "cell_type": "code",
            "execution_count": null,
            "metadata": {},
            "outputs": [],
            "source": "# Delhi latitude and longitude using Google search\ndel_lat = 28.7041\ndel_lng = 77.1025"
        },
        {
            "cell_type": "code",
            "execution_count": null,
            "metadata": {},
            "outputs": [],
            "source": "# Creates map of Delhi using latitude and longitude values\nmap_delhi = folium.Map(location=[del_lat, del_lng], zoom_start=11)\n\n# Add markers to map\nfor lat, lng, neighbourhood in zip(df['Latitude'], df['Longitude'], df['Location']):\n    label = '{}'.format(neighbourhood)\n    label = folium.Popup(label, parse_html=True)\n    folium.CircleMarker(\n        [lat, lng],\n        radius=5,\n        popup=label,\n        color='blue',\n        fill=True,\n        fill_color='#3186cc',\n        fill_opacity=0.7,\n        parse_html=False).add_to(map_delhi)  "
        },
        {
            "cell_type": "code",
            "execution_count": null,
            "metadata": {},
            "outputs": [],
            "source": "map_delhi"
        },
        {
            "cell_type": "markdown",
            "metadata": {},
            "source": "### Use foursquare api to get venue data"
        },
        {
            "cell_type": "markdown",
            "metadata": {},
            "source": "**Credentials**\n\nCLIENT_ID, CLIENT_SECRET, VERSION"
        },
        {
            "cell_type": "code",
            "execution_count": null,
            "metadata": {},
            "outputs": [],
            "source": "# The code was removed by Watson Studio for sharing."
        },
        {
            "cell_type": "code",
            "execution_count": null,
            "metadata": {},
            "outputs": [],
            "source": "def get_category_type(row):\n    categories_list = row['Category']  \n    \n    if len(categories_list) == 0:\n        return None\n    else:\n        return categories_list[0]['name']"
        },
        {
            "cell_type": "code",
            "execution_count": null,
            "metadata": {},
            "outputs": [],
            "source": "explore_df_list = []\n\nfor i, nbd_name in enumerate(df['Location']):  \n    \n    try :\n        # Getting the data of Neighbours\n        nbd_name = df.loc[i, 'Location']\n        nbd_lat = df.loc[i, 'Latitude']\n        nbd_lng = df.loc[i, 'Longitude']\n\n        radius = 1000 # Setting the radius as 1000 metres\n        LIMIT = 50 # Getting the top 30 venues\n\n        url = 'https://api.foursquare.com/v2/venues/explore?client_id={}&client_secret={}&ll={},{}&v={}&radius={}&limit={}'\\\n        .format(CLIENT_ID, CLIENT_SECRET, nbd_lat, nbd_lng, VERSION, radius, LIMIT)\n\n        results = json.loads(requests.get(url).text)\n        results = results['response']['groups'][0]['items']\n\n        nearby = json_normalize(results) # Flattens JSON\n\n        # Filtering the columns\n        filtered_columns = ['venue.name', 'venue.categories', 'venue.location.lat', 'venue.location.lng']\n        nearby = nearby.loc[:, filtered_columns]\n\n        # Renaming the columns\n        columns = ['Name', 'Category', 'Latitude', 'Longitude']\n        nearby.columns = columns\n\n        # Gets the categories\n        nearby['Category'] = nearby.apply(get_category_type, axis=1)    \n\n        # Gets the data required\n        for i, name in enumerate(nearby['Name']):\n            s_list = nearby.loc[i, :].values.tolist()  # Converts the numpy array to a python list\n            f_list = [nbd_name, nbd_lat, nbd_lng] + s_list\n            explore_df_list.append(f_list)\n    \n    except Exception as e:\n        pass"
        },
        {
            "cell_type": "code",
            "execution_count": null,
            "metadata": {},
            "outputs": [],
            "source": "explore_df = pd.DataFrame([item for item in explore_df_list])\nexplore_df.columns = ['Location', 'Location Latitude', 'Location Longitude', 'Venue Name', 'Venue Category', 'Venue Latitude', 'Venue Longitude']"
        },
        {
            "cell_type": "code",
            "execution_count": null,
            "metadata": {},
            "outputs": [],
            "source": "explore_df.head(10)"
        },
        {
            "cell_type": "markdown",
            "metadata": {},
            "source": "### Seprate the data with accordance of place where we can get food "
        },
        {
            "cell_type": "code",
            "execution_count": null,
            "metadata": {},
            "outputs": [],
            "source": "#all the places where one can get some food\n\nmeals=['Restaurant','Place','Food','Joint','Breakfast','Hotel','Coffee','Donut','Dessert','Bakery','Diner','Caf\u00e9','Ice Cream','Cafeteria']\n\ndata=explore_df[(explore_df['Venue Category']).apply(lambda x: True if any(item in x.split() for item in meals) else False)==True ]\n\ndata.reset_index(inplace=True,drop=True)\n\ndata.head(10)"
        },
        {
            "cell_type": "code",
            "execution_count": null,
            "metadata": {},
            "outputs": [],
            "source": "map_delhi = folium.Map(location=[del_lat, del_lng], zoom_start=11)\n\n# Add markers to map\nfor lat, lng, Location in zip(data['Venue Latitude'], data['Venue Longitude'], data['Venue Name']):\n    label = '{}'.format(Location)\n    label = folium.Popup(label, parse_html=True)\n    folium.CircleMarker(\n        [lat, lng],\n        radius=5,\n        popup=label,\n        color='blue',\n        fill=True,\n        fill_color='#3186cc',\n        fill_opacity=0.7,\n        parse_html=False).add_to(map_delhi) "
        },
        {
            "cell_type": "code",
            "execution_count": null,
            "metadata": {
                "scrolled": true
            },
            "outputs": [],
            "source": "map_delhi"
        },
        {
            "cell_type": "markdown",
            "metadata": {},
            "source": "### Finding the nearest venues"
        },
        {
            "cell_type": "code",
            "execution_count": null,
            "metadata": {},
            "outputs": [],
            "source": "# Example coordinate\na1=28.6304\na2=77.2177"
        },
        {
            "cell_type": "code",
            "execution_count": null,
            "metadata": {},
            "outputs": [],
            "source": "from geopy.distance import distance\nplace={}\nfor i in zip(data['Venue Name'],data['Venue Latitude'],data['Venue Longitude']):\n    coor=(i[1],i[2])\n    k=distance(coor,(a1,a2))\n    if k<=2.000000000000000:\n        place[i[0]]=[k,i[1],i[2]]\n        \nplaces={k: v for k, v in sorted(place.items(), key=lambda item: item[1][0])}"
        },
        {
            "cell_type": "code",
            "execution_count": null,
            "metadata": {},
            "outputs": [],
            "source": "nearby_venue_latitude=[]\nnearby_venue_longitude=[]\n\nfor i in places.items():\n    nearby_venue_latitude.append(i[1][1])\n    nearby_venue_longitude.append(i[1][2])"
        },
        {
            "cell_type": "code",
            "execution_count": null,
            "metadata": {},
            "outputs": [],
            "source": "final=pd.DataFrame()\nfinal['Name']=places.keys()\nfinal['Latitude']=nearby_venue_latitude\nfinal['Longitude']=nearby_venue_longitude"
        },
        {
            "cell_type": "code",
            "execution_count": null,
            "metadata": {},
            "outputs": [],
            "source": "final.head()"
        },
        {
            "cell_type": "code",
            "execution_count": null,
            "metadata": {},
            "outputs": [],
            "source": "map_nearby = folium.Map(location=[a1, a2], zoom_start=14)\n\nfolium.Marker([a1,a2]).add_to(map_nearby)\n\nfor lat, lng, Location in zip(final['Latitude'], final['Longitude'], final['Name']):\n    label = '{}'.format(Location)\n    label = folium.Popup(label, parse_html=True)\n    folium.CircleMarker(\n        [lat, lng],\n        radius=5,\n        popup=label,\n        color='red',\n        fill=True,\n        fill_color='blue',\n        fill_opacity=0.7,\n        parse_html=False).add_to(map_nearby) "
        },
        {
            "cell_type": "code",
            "execution_count": null,
            "metadata": {},
            "outputs": [],
            "source": "map_nearby"
        },
        {
            "cell_type": "code",
            "execution_count": null,
            "metadata": {},
            "outputs": [],
            "source": ""
        }
    ],
    "metadata": {
        "kernelspec": {
            "display_name": "Python 3.6",
            "language": "python",
            "name": "python3"
        },
        "language_info": {
            "codemirror_mode": {
                "name": "ipython",
                "version": 3
            },
            "file_extension": ".py",
            "mimetype": "text/x-python",
            "name": "python",
            "nbconvert_exporter": "python",
            "pygments_lexer": "ipython3",
            "version": "3.6.9"
        }
    },
    "nbformat": 4,
    "nbformat_minor": 1
}